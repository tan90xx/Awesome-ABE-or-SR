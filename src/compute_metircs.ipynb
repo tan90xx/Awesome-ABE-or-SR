{
 "cells": [
  {
   "cell_type": "code",
   "execution_count": 1,
   "id": "0c81aa38",
   "metadata": {},
   "outputs": [],
   "source": [
    "import librosa\n",
    "import numpy as np\n",
    "import os\n",
    "\n",
    "import metrics"
   ]
  },
  {
   "cell_type": "code",
   "execution_count": 3,
   "id": "b16168b4",
   "metadata": {},
   "outputs": [
    {
     "name": "stdout",
     "output_type": "stream",
     "text": [
      "audiounet.2.IEEE    IEEE-d         24.636415021718832       22.50547837155288        1.8671040534973145       3.5866304768456354       \n",
      "audiounet.2.IEEE    LIBRI-d        19.50464961339368        16.14470811244417        1.8999086618423462       3.3832872104098777       \n",
      "audiounet.2.IEEE    TIMIT-d        17.777782605856174       16.030971611535918       1.7952102422714233       3.360872805118561        \n",
      "audiounet.2.IEEE    WSJ-d          13.67679605883229        9.942934097385304        2.08465838432312         2.985686713283146        \n",
      "proposed.16.IEEE    IEEE-d         21.949551772988123       14.092530422957418       1.5368964672088623       2.0696795599328146       \n",
      "proposed.16.IEEE    LIBRI-d        15.600273589789944       7.091378351006834        1.4996719360351562       1.6024696113044068       \n",
      "proposed.16.IEEE    TIMIT-d        14.173717897216184       8.64848934546663         1.4394563436508179       1.7464276049286127       \n",
      "proposed.16.IEEE    WSJ-d          8.99875864329451         -1.23204774986981        1.584088683128357        1.2770453023104806       \n",
      "proposed.17.LIBRI   IEEE-d         25.41453238333291        23.41652357112915        2.087040424346924        3.7778807315561505       \n",
      "proposed.17.LIBRI   LIBRI-d        20.178475997200174       16.16971454348671        2.0502891540527344       3.1695734788443297       \n",
      "proposed.17.LIBRI   TIMIT-d        17.75776629804161        16.805390469079125       1.8016576766967773       3.0716742960115275       \n",
      "proposed.17.LIBRI   WSJ-d          13.508879188358554       9.848401774832322        2.0073580741882324       2.5962462710894747       \n"
     ]
    }
   ],
   "source": [
    "metrics.main(down_scheme = ['d'], a = ['audiounet.2.IEEE', 'proposed.16.IEEE', 'proposed.17.LIBRI'])"
   ]
  },
  {
   "cell_type": "code",
   "execution_count": 12,
   "id": "149fdeca",
   "metadata": {},
   "outputs": [
    {
     "name": "stdout",
     "output_type": "stream",
     "text": [
      "proposed.1.T_PCM              MIR0    13.091817506342148  14.450626295774834  1.524953842163086   2.626267200956742   \n",
      "proposed.1.T_PCM              MIR1    11.724557845824593  12.042448647862733  1.6156972646713257  2.4953988898884165  \n",
      "proposed.1.T_PCM              MIR2    10.7099048144154    10.211695570222286  1.6445962190628052  2.3114912106345096  \n",
      "proposed.1.T_PCM              MIR3    10.048122224393836  9.718408376847615   1.647243618965149   2.351893639191985   \n",
      "proposed.1.T_PCM              MIR4    9.89531666108646    10.233296034283455  1.6579118967056274  2.3690258556356034  \n",
      "proposed.1.T_PCM              MIR5    8.373767385961981   6.863970985807241   1.5594221353530884  2.132143814737598   \n",
      "proposed.1.T_PCM              MIR6    12.507360820923685  11.061876216415817  1.4846426248550415  2.306929018969337   \n",
      "proposed.1.T_PCM              MIR7    11.7931505711785    13.272770208901127  1.6347790956497192  2.5083280000835657  \n",
      "proposed.1.T_PCM              MIR8    12.318299671780883  12.048684349680256  1.6322382688522339  2.448903415352106   \n",
      "proposed.1.T_PCM              MIR9    13.063535154210541  14.670000191524288  1.5168565511703491  2.6171820083012185  \n",
      "proposed.1.T_PCM              MIR10   11.68870067066019   12.412040138011605  1.681884765625      2.50315221461157    \n",
      "proposed.1.T_PCM              MIR11   10.635046157244803  10.339846110731921  1.6438804864883423  2.323356518521905   \n",
      "proposed.1.T_PCM              MIR12   13.4122626800574    15.356381491829666  1.654463768005371   2.660679933304588   \n",
      "proposed.1.T_PCM              MIR13   8.425994425369613   8.192669056777477   1.84121835231781    2.1652438261856637  \n",
      "proposed.1.T_PCM              MIR14   11.360717565800025  12.906433406515935  1.6033536195755005  2.545028429478407   \n",
      "proposed.1.T_PCM              MIR15   12.216948432784596  15.028045970162749  1.7050700187683105  2.6476728649189076  \n",
      "proposed.1.T_PCM              MIR16   12.241783830059836  12.94475113417954   1.646061897277832   2.5420505025734506  \n",
      "proposed.1.T_PCM              MIR17   11.62649607889768   13.841794948885491  1.6495963335037231  2.5096792553861937  \n",
      "proposed.1.T_PCM              MIR18   9.954403575898354   9.410660635635864   1.7021492719650269  2.3410465456545353  \n",
      "proposed.1.T_PCM              MIR19   11.743907503154574  10.709521570340579  1.5713367462158203  2.38008792946736    \n"
     ]
    }
   ],
   "source": [
    "for i in range(20):\n",
    "    path = r\"D:\\Audio-Kuleshov\\src\\checkpoints\\proposed.1.T_PCM\\eval\\TIMIT_test_on_MIR\\MIR{}\".format(i)\n",
    "    wavlist = find_wavs(path)\n",
    "    SNR1, SNR2, LSD, PESQ=list(), list(), list(), list()\n",
    "    for super_path in wavlist:\n",
    "        ####### generate_path ##########\n",
    "        high_path = find_high_path(super_path)\n",
    "        #print(high_path)\n",
    "        ######### load audio ##########\n",
    "        High, fs = librosa.load(high_path, sr=16000)\n",
    "        Super, fs = librosa.load(super_path, sr=16000)\n",
    "        MIN = min(len(High),len(Super))\n",
    "        High = High[:MIN]\n",
    "        Super = Super[:MIN]\n",
    "        ######### cumpute ############\n",
    "        temp_snr1, temp_snr2, temp_lsd, temp_pesq = metrics.get_scores(High, Super)\n",
    "        SNR1.append(temp_snr1)\n",
    "        SNR2.append(temp_snr2)\n",
    "        LSD.append(temp_lsd)\n",
    "        PESQ.append(temp_pesq)\n",
    "    print(\"{:<30}{:<8}{:<20}{:<20}{:<20}{:<20}\".format('proposed.1.T_PCM','MIR{}'.format(i),np.mean(SNR2),np.mean(SNR1),np.mean(LSD),np.mean(PESQ)))"
   ]
  },
  {
   "cell_type": "code",
   "execution_count": 2,
   "id": "75da4eac",
   "metadata": {
    "collapsed": true
   },
   "outputs": [
    {
     "ename": "NameError",
     "evalue": "name 'SNR' is not defined",
     "output_type": "error",
     "traceback": [
      "\u001b[1;31m---------------------------------------------------------------------------\u001b[0m",
      "\u001b[1;31mNameError\u001b[0m                                 Traceback (most recent call last)",
      "\u001b[1;32m~\\AppData\\Local\\Temp\\ipykernel_20492\\4274226892.py\u001b[0m in \u001b[0;36m<module>\u001b[1;34m\u001b[0m\n\u001b[0;32m      6\u001b[0m \u001b[1;33m\u001b[0m\u001b[0m\n\u001b[0;32m      7\u001b[0m \u001b[0max0\u001b[0m\u001b[1;33m.\u001b[0m\u001b[0mset_title\u001b[0m\u001b[1;33m(\u001b[0m\u001b[1;34m'SNR'\u001b[0m\u001b[1;33m)\u001b[0m\u001b[1;33m\u001b[0m\u001b[1;33m\u001b[0m\u001b[0m\n\u001b[1;32m----> 8\u001b[1;33m \u001b[0max0\u001b[0m\u001b[1;33m.\u001b[0m\u001b[0mplot\u001b[0m\u001b[1;33m(\u001b[0m\u001b[0mSNR\u001b[0m\u001b[1;33m)\u001b[0m\u001b[1;33m\u001b[0m\u001b[1;33m\u001b[0m\u001b[0m\n\u001b[0m\u001b[0;32m      9\u001b[0m \u001b[0max0\u001b[0m\u001b[1;33m.\u001b[0m\u001b[0mset_ylim\u001b[0m\u001b[1;33m(\u001b[0m\u001b[1;33m[\u001b[0m\u001b[1;33m-\u001b[0m\u001b[1;36m10\u001b[0m\u001b[1;33m,\u001b[0m \u001b[1;36m35\u001b[0m\u001b[1;33m]\u001b[0m\u001b[1;33m)\u001b[0m\u001b[1;33m\u001b[0m\u001b[1;33m\u001b[0m\u001b[0m\n\u001b[0;32m     10\u001b[0m \u001b[1;33m\u001b[0m\u001b[0m\n",
      "\u001b[1;31mNameError\u001b[0m: name 'SNR' is not defined"
     ]
    },
    {
     "data": {
      "image/png": "[encoded data removed]",
      "text/plain": [
       "<Figure size 864x288 with 3 Axes>"
      ]
     },
     "metadata": {
      "needs_background": "light"
     },
     "output_type": "display_data"
    }
   ],
   "source": [
    "import matplotlib.pyplot as plt\n",
    "\n",
    "\n",
    "fig, (ax0, ax1, ax2) = plt.subplots(nrows=1, ncols=3, sharex=True,\n",
    "                                    figsize=(12, 4))\n",
    "\n",
    "ax0.set_title('SNR')\n",
    "ax0.plot(SNR)\n",
    "ax0.set_ylim([-10, 35])\n",
    "\n",
    "ax1.set_title('LSD')\n",
    "ax1.plot(LSD)\n",
    "ax1.set_ylim([0, 2])\n",
    "\n",
    "ax2.set_title('PESQ')\n",
    "ax2.plot(PESQ)\n",
    "ax2.set_ylim([1.04, 4.64])\n",
    "\n",
    "#fig.suptitle('The Three Metrics for **')\n",
    "plt.savefig('save.jpg')\n",
    "plt.show()"
   ]
  }
 ],
 "metadata": {
  "kernelspec": {
   "display_name": "audiosr",
   "language": "python",
   "name": "audiosr"
  },
  "language_info": {
   "codemirror_mode": {
    "name": "ipython",
    "version": 3
   },
   "file_extension": ".py",
   "mimetype": "text/x-python",
   "name": "python",
   "nbconvert_exporter": "python",
   "pygments_lexer": "ipython3",
   "version": "3.8.13"
  }
 },
 "nbformat": 4,
 "nbformat_minor": 5
}
