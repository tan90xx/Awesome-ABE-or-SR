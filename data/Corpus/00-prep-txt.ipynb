{
 "cells": [
  {
   "cell_type": "markdown",
   "id": "8519b2bf",
   "metadata": {},
   "source": [
    "### <center>功能函数</center>"
   ]
  },
  {
   "cell_type": "code",
   "execution_count": 1,
   "id": "336b3ae0",
   "metadata": {},
   "outputs": [],
   "source": [
    "import os\n",
    "import random\n",
    "\n",
    "import numpy as np\n",
    "\n",
    "# Set the random seeds\n",
    "random.seed(hash(\"setting random seeds\") % 2**32 - 1)\n",
    "np.random.seed(hash(\"improves reproducibility\") % 2**32 - 1)"
   ]
  },
  {
   "cell_type": "markdown",
   "id": "061d744b",
   "metadata": {},
   "source": [
    "### 文件后缀修改"
   ]
  },
  {
   "cell_type": "code",
   "execution_count": 2,
   "id": "67105ebe",
   "metadata": {},
   "outputs": [],
   "source": [
    "def find_wavs(input_path):\n",
    "    # find all wav files\n",
    "    flac_files = []\n",
    "    for root, folders, files in os.walk(input_path):\n",
    "        for file in filter(lambda x: x.endswith('wav'), files):\n",
    "            if '._S_' in file:# for IEEE\n",
    "                continue\n",
    "            else:\n",
    "                flac_files.append(os.path.join(root, file))\n",
    "    return flac_files"
   ]
  },
  {
   "cell_type": "code",
   "execution_count": 3,
   "id": "552f1b61",
   "metadata": {},
   "outputs": [],
   "source": [
    "input_path = r'D:\\workspace\\nan\\test\\datasets\\Corpus\\LibriSpeech'\n",
    "# find all files\n",
    "flac_files = find_wavs(input_path)"
   ]
  },
  {
   "cell_type": "code",
   "execution_count": 4,
   "id": "4eb006d4",
   "metadata": {},
   "outputs": [
    {
     "data": {
      "text/plain": [
       "28539"
      ]
     },
     "execution_count": 4,
     "metadata": {},
     "output_type": "execute_result"
    }
   ],
   "source": [
    "len(flac_files)"
   ]
  },
  {
   "cell_type": "code",
   "execution_count": 5,
   "id": "a0737c16",
   "metadata": {},
   "outputs": [],
   "source": [
    "for flac_file in flac_files:\n",
    "    wav_file = flac_file.replace('.flac', '.wav')\n",
    "    os.rename(flac_file, wav_file)"
   ]
  },
  {
   "cell_type": "markdown",
   "id": "126b0ec1",
   "metadata": {},
   "source": [
    "### 将List写入txt"
   ]
  },
  {
   "cell_type": "code",
   "execution_count": 11,
   "id": "386fdc0f",
   "metadata": {},
   "outputs": [],
   "source": [
    "input_path = r'.\\IEEE\\wideband'\n",
    "# find all files\n",
    "wav_files = find_wavs(input_path)\n",
    "list_to_txt(wav_files,'1.txt')"
   ]
  },
  {
   "cell_type": "code",
   "execution_count": 3,
   "id": "60bce8f5",
   "metadata": {},
   "outputs": [],
   "source": [
    "def list_to_txt(wav_list,txt_file): \n",
    "    with open(txt_file, 'w') as f:\n",
    "        for wav_file in wav_list:\n",
    "            #wav_file = wav_file.replace(input_path, '')\n",
    "            f.write(wav_file+\"\\n\")"
   ]
  },
  {
   "cell_type": "markdown",
   "id": "ab1b2c21",
   "metadata": {},
   "source": [
    "### 随机分割"
   ]
  },
  {
   "cell_type": "code",
   "execution_count": 4,
   "id": "13d62840",
   "metadata": {},
   "outputs": [],
   "source": [
    "# 从列表中随机选择指定个数的元素\n",
    "def cut_list(wav_list,*param):\n",
    "    random.shuffle(wav_list)\n",
    "    start = 0\n",
    "    starts = []\n",
    "    end = 0\n",
    "    ends = []\n",
    "    for cut_index in param:\n",
    "        end=end+cut_index\n",
    "        starts.append(start)\n",
    "        ends.append(end)\n",
    "        start=end\n",
    "    return [wav_list[start:end] for start,end in zip(starts,ends)]"
   ]
  },
  {
   "cell_type": "code",
   "execution_count": 30,
   "id": "69efbc3a",
   "metadata": {},
   "outputs": [
    {
     "data": {
      "text/plain": [
       "3"
      ]
     },
     "execution_count": 30,
     "metadata": {},
     "output_type": "execute_result"
    }
   ],
   "source": [
    "output=cut_list([1,2,3,4,5,6,7,8,9,10],3,1,6)\n",
    "len(output)"
   ]
  },
  {
   "cell_type": "markdown",
   "id": "0097bc90",
   "metadata": {},
   "source": [
    "### 按照指定名称写入列表"
   ]
  },
  {
   "cell_type": "code",
   "execution_count": 5,
   "id": "c82342db",
   "metadata": {},
   "outputs": [],
   "source": [
    "def write_txt(wav_lists,corpus):\n",
    "    txt_files=[corpus+'-train-files.txt',corpus+'-val-files.txt',corpus+'-test-files.txt']\n",
    "    for wav_list, txt_file in zip(wav_lists, txt_files):\n",
    "        list_to_txt(wav_list,txt_file)"
   ]
  },
  {
   "cell_type": "markdown",
   "id": "ebb1c928",
   "metadata": {},
   "source": [
    "### 获得指定路径下文件夹名"
   ]
  },
  {
   "cell_type": "markdown",
   "id": "77aebeb4",
   "metadata": {},
   "source": [
    "### <center> timit <center>"
   ]
  },
  {
   "cell_type": "code",
   "execution_count": 7,
   "id": "6298c083",
   "metadata": {},
   "outputs": [
    {
     "data": {
      "text/plain": [
       "4620"
      ]
     },
     "execution_count": 7,
     "metadata": {},
     "output_type": "execute_result"
    }
   ],
   "source": [
    "timit_train = find_wavs(r'.\\TIMIT\\TRAIN')\n",
    "len(timit_train)"
   ]
  },
  {
   "cell_type": "code",
   "execution_count": 8,
   "id": "3ef4ac6c",
   "metadata": {},
   "outputs": [
    {
     "data": {
      "text/plain": [
       "1680"
      ]
     },
     "execution_count": 8,
     "metadata": {},
     "output_type": "execute_result"
    }
   ],
   "source": [
    "timit_test = find_wavs(r'.\\TIMIT\\TEST')\n",
    "len(timit_test)"
   ]
  },
  {
   "cell_type": "code",
   "execution_count": 9,
   "id": "08b699b6",
   "metadata": {},
   "outputs": [
    {
     "name": "stdout",
     "output_type": "stream",
     "text": [
      "1153 192\n"
     ]
    }
   ],
   "source": [
    "output = cut_list(timit_test,1153, 192)\n",
    "timit_val = output[0]\n",
    "timit_test = output[1]\n",
    "print(len(timit_val),len(timit_test))"
   ]
  },
  {
   "cell_type": "markdown",
   "id": "81302a8c",
   "metadata": {},
   "source": [
    "### <center> vctk </center>"
   ]
  },
  {
   "cell_type": "code",
   "execution_count": 10,
   "id": "c0320cc6",
   "metadata": {},
   "outputs": [
    {
     "name": "stdout",
     "output_type": "stream",
     "text": [
      "44455\n"
     ]
    }
   ],
   "source": [
    "vctk_train = find_wavs(r'.\\VCTK')\n",
    "total = len(vctk_train)\n",
    "print(total)"
   ]
  },
  {
   "cell_type": "code",
   "execution_count": 11,
   "id": "99ffee03",
   "metadata": {},
   "outputs": [
    {
     "name": "stdout",
     "output_type": "stream",
     "text": [
      "39120 2667 2667\n"
     ]
    }
   ],
   "source": [
    "output = cut_list(vctk_train,int(total*0.88), int(total*0.06), int(total*0.06))\n",
    "vctk_train = output[0]\n",
    "vctk_val = output[1]\n",
    "vctk_test = output[2]\n",
    "print(len(vctk_train),len(vctk_val),len(vctk_test))"
   ]
  },
  {
   "cell_type": "markdown",
   "id": "998d7261",
   "metadata": {},
   "source": [
    "### <center> WSJ </center>"
   ]
  },
  {
   "cell_type": "code",
   "execution_count": 12,
   "id": "4d8c7bc3",
   "metadata": {},
   "outputs": [],
   "source": [
    "path = r'.\\WSJ'\n",
    "dirs = os.listdir(path)\n",
    "file_list = []\n",
    "for file in dirs:\n",
    "    file_list.append(file)"
   ]
  },
  {
   "cell_type": "code",
   "execution_count": 13,
   "id": "40fe1f53",
   "metadata": {},
   "outputs": [
    {
     "data": {
      "text/plain": [
       "['052', '026', '20g', '20q', '00d', '40l', '01n', '01g', '20n', '407']"
      ]
     },
     "execution_count": 13,
     "metadata": {},
     "output_type": "execute_result"
    }
   ],
   "source": [
    "output = cut_list(file_list,100, 10, 8)\n",
    "output[1]"
   ]
  },
  {
   "cell_type": "code",
   "execution_count": 14,
   "id": "91cf9973",
   "metadata": {},
   "outputs": [],
   "source": [
    "def wsj_from(speakers):\n",
    "    path = r'.\\WSJ'\n",
    "    total_list=[]\n",
    "    for speaker in speakers:\n",
    "        total_list += find_wavs(os.path.join(path,speaker))\n",
    "    return total_list"
   ]
  },
  {
   "cell_type": "code",
   "execution_count": 15,
   "id": "b750eaeb",
   "metadata": {},
   "outputs": [
    {
     "name": "stdout",
     "output_type": "stream",
     "text": [
      "26187 2022 2170\n"
     ]
    }
   ],
   "source": [
    "wsj_train = wsj_from(output[0])\n",
    "wsj_val = wsj_from(output[1])\n",
    "wsj_test = wsj_from(output[2])\n",
    "print(len(wsj_train),len(wsj_val),len(wsj_test))"
   ]
  },
  {
   "cell_type": "code",
   "execution_count": 16,
   "id": "8a2ef854",
   "metadata": {},
   "outputs": [
    {
     "name": "stdout",
     "output_type": "stream",
     "text": [
      "12736 1206 651\n"
     ]
    }
   ],
   "source": [
    "wsj_train = cut_list(wsj_train,12736)[0]\n",
    "wsj_val = cut_list(wsj_val,1206)[0]\n",
    "wsj_test = cut_list(wsj_test,651)[0]\n",
    "print(len(wsj_train),len(wsj_val),len(wsj_test))"
   ]
  },
  {
   "cell_type": "markdown",
   "id": "eead7540",
   "metadata": {},
   "source": [
    "### <center> LIBRI </center>"
   ]
  },
  {
   "cell_type": "code",
   "execution_count": 17,
   "id": "cd542fc5",
   "metadata": {},
   "outputs": [
    {
     "data": {
      "text/plain": [
       "2703"
      ]
     },
     "execution_count": 17,
     "metadata": {},
     "output_type": "execute_result"
    }
   ],
   "source": [
    "libri_val = find_wavs(r'.\\LIBRI\\dev-clean')\n",
    "len(libri_val)"
   ]
  },
  {
   "cell_type": "code",
   "execution_count": 18,
   "id": "847bed17",
   "metadata": {},
   "outputs": [
    {
     "data": {
      "text/plain": [
       "2620"
      ]
     },
     "execution_count": 18,
     "metadata": {},
     "output_type": "execute_result"
    }
   ],
   "source": [
    "libri_test = find_wavs(r'.\\LIBRI\\test-clean')\n",
    "len(libri_test)"
   ]
  },
  {
   "cell_type": "code",
   "execution_count": 19,
   "id": "43a7e674",
   "metadata": {},
   "outputs": [
    {
     "data": {
      "text/plain": [
       "28539"
      ]
     },
     "execution_count": 19,
     "metadata": {},
     "output_type": "execute_result"
    }
   ],
   "source": [
    "libri_train = find_wavs(r'.\\LIBRI\\train-clean-100')\n",
    "len(libri_train)"
   ]
  },
  {
   "cell_type": "markdown",
   "id": "a8e53c7a",
   "metadata": {},
   "source": [
    "### <center> IEEE </center>"
   ]
  },
  {
   "cell_type": "code",
   "execution_count": 20,
   "id": "75b19d9c",
   "metadata": {},
   "outputs": [
    {
     "data": {
      "text/plain": [
       "720"
      ]
     },
     "execution_count": 20,
     "metadata": {},
     "output_type": "execute_result"
    }
   ],
   "source": [
    "ieee_train = find_wavs(r'.\\IEEE\\wideband')\n",
    "len(ieee_train)"
   ]
  },
  {
   "cell_type": "code",
   "execution_count": 21,
   "id": "9b8334f0",
   "metadata": {},
   "outputs": [
    {
     "name": "stdout",
     "output_type": "stream",
     "text": [
      "576 72 72\n"
     ]
    }
   ],
   "source": [
    "output = cut_list(ieee_train,576, 72, 72)\n",
    "ieee_train = output[0]\n",
    "ieee_val = output[1]\n",
    "ieee_test = output[2]\n",
    "print(len(ieee_train),len(ieee_val),len(ieee_test))"
   ]
  },
  {
   "cell_type": "markdown",
   "id": "a2edf0d1",
   "metadata": {},
   "source": [
    "### <center> 写入对应txt文件 <center>"
   ]
  },
  {
   "cell_type": "code",
   "execution_count": 22,
   "id": "a87be950",
   "metadata": {},
   "outputs": [],
   "source": [
    "write_txt([timit_train,timit_val,timit_test],'timit')"
   ]
  },
  {
   "cell_type": "code",
   "execution_count": 23,
   "id": "dcc3823c",
   "metadata": {},
   "outputs": [],
   "source": [
    "write_txt([vctk_train,vctk_val,vctk_test],'vctk-multispeaker')\n",
    "write_txt([wsj_train,wsj_val,wsj_test],'wsj')\n",
    "write_txt([libri_train,libri_val,libri_test],'libri')\n",
    "write_txt([ieee_train,ieee_val,ieee_test],'ieee')"
   ]
  },
  {
   "cell_type": "markdown",
   "id": "34739e31",
   "metadata": {},
   "source": [
    "### <center> mir20 </center>"
   ]
  },
  {
   "cell_type": "code",
   "execution_count": 24,
   "id": "85b8fa74",
   "metadata": {},
   "outputs": [],
   "source": [
    "mirs = find_wavs(r'.\\VintageMics')\n",
    "mir20 = cut_list(mirs,20)[0]\n",
    "list_to_txt(mir20,'mir20-files.txt')"
   ]
  },
  {
   "cell_type": "markdown",
   "id": "1973d178",
   "metadata": {},
   "source": [
    "### <center> mixed </center>"
   ]
  },
  {
   "cell_type": "code",
   "execution_count": 25,
   "id": "d964f13f",
   "metadata": {},
   "outputs": [
    {
     "data": {
      "text/plain": [
       "46471"
      ]
     },
     "execution_count": 25,
     "metadata": {},
     "output_type": "execute_result"
    }
   ],
   "source": [
    "mixed1 = timit_train+wsj_train+libri_train+ieee_train\n",
    "mixed_train = cut_list(mixed1,10000)[0]\n",
    "list_to_txt(mixed_train,'mixed-train-files.txt')\n",
    "len(mixed1)"
   ]
  },
  {
   "cell_type": "code",
   "execution_count": 26,
   "id": "754b2fb0",
   "metadata": {},
   "outputs": [
    {
     "data": {
      "text/plain": [
       "5134"
      ]
     },
     "execution_count": 26,
     "metadata": {},
     "output_type": "execute_result"
    }
   ],
   "source": [
    "mixed2 = timit_val+wsj_val+libri_val+ieee_val\n",
    "len(mixed2)"
   ]
  },
  {
   "cell_type": "code",
   "execution_count": 27,
   "id": "26a6d9e1",
   "metadata": {},
   "outputs": [],
   "source": [
    "mixed_val = cut_list(mixed2,int(10000/46471*5134))[0]\n",
    "list_to_txt(mixed_val,'mixed-val-files.txt')"
   ]
  },
  {
   "cell_type": "code",
   "execution_count": 28,
   "id": "84c68033",
   "metadata": {},
   "outputs": [
    {
     "data": {
      "text/plain": [
       "1104"
      ]
     },
     "execution_count": 28,
     "metadata": {},
     "output_type": "execute_result"
    }
   ],
   "source": [
    "len(mixed_val)"
   ]
  },
  {
   "cell_type": "code",
   "execution_count": 29,
   "id": "cda224de",
   "metadata": {},
   "outputs": [
    {
     "name": "stdout",
     "output_type": "stream",
     "text": [
      ".ipynb_checkpoints\n",
      "01-prep-txt.ipynb\n",
      "IEEE\n",
      "ieee-test-files.txt\n",
      "ieee-train-files.txt\n",
      "ieee-val-files.txt\n",
      "LIBRI\n",
      "libri-test-files.txt\n",
      "libri-train-files.txt\n",
      "libri-val-files.txt\n",
      "mir20-files.txt\n",
      "mixed-train-files.txt\n",
      "mixed-val-files.txt\n",
      "test.txt\n",
      "TIMIT\n",
      "timit-test-files.txt\n",
      "timit-train-files.txt\n",
      "timit-val-files.txt\n",
      "VCTK\n",
      "vctk-multispeaker-test-files.txt\n",
      "vctk-multispeaker-train-files.txt\n",
      "vctk-multispeaker-val-files.txt\n",
      "vctk-speaker1-train-files.txt\n",
      "vctk-speaker1-val-files.txt\n",
      "VintageMics\n",
      "WSJ\n",
      "wsj-test-files.txt\n",
      "wsj-train-files.txt\n",
      "wsj-val-files.txt\n"
     ]
    }
   ],
   "source": [
    "! dir /b"
   ]
  }
 ],
 "metadata": {
  "kernelspec": {
   "display_name": "audiosr",
   "language": "python",
   "name": "audiosr"
  },
  "language_info": {
   "codemirror_mode": {
    "name": "ipython",
    "version": 3
   },
   "file_extension": ".py",
   "mimetype": "text/x-python",
   "name": "python",
   "nbconvert_exporter": "python",
   "pygments_lexer": "ipython3",
   "version": "3.8.13"
  }
 },
 "nbformat": 4,
 "nbformat_minor": 5
}
