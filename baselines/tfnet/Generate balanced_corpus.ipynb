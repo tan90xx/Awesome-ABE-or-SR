{
 "cells": [
  {
   "cell_type": "markdown",
   "id": "ce47fc75",
   "metadata": {},
   "source": [
    "# Generate balanced_corpus"
   ]
  },
  {
   "cell_type": "code",
   "execution_count": 1,
   "id": "800f7214",
   "metadata": {},
   "outputs": [],
   "source": [
    "import os\n",
    "import random\n",
    "from shutil import copy\n",
    "\n",
    "import numpy as np\n",
    "\n",
    "# Set the random seeds\n",
    "random.seed(hash(\"setting random seeds\") % 2**32 - 1)\n",
    "np.random.seed(hash(\"improves reproducibility\") % 2**32 - 1)"
   ]
  },
  {
   "cell_type": "code",
   "execution_count": 2,
   "id": "e6d28913",
   "metadata": {},
   "outputs": [],
   "source": [
    "# 1.Read from the full_corpus_txt\n",
    "# 2.choose % from it\n",
    "# 3.write in a new txt\n",
    "def pick_from_txt(inputfile,outputfile,sam):\n",
    "    file_list = []\n",
    "    file_extensions = set(['.wav'])\n",
    "\n",
    "    with open(inputfile) as f:\n",
    "        for line in f:\n",
    "            filename = line.strip()\n",
    "            ext = os.path.splitext(filename)[1]\n",
    "            if ext in file_extensions:\n",
    "                u = np.random.uniform()\n",
    "                if u > sam: continue\n",
    "                file_list.append(filename)\n",
    "\n",
    "    with open(outputfile, 'w') as f:\n",
    "        for filename in file_list:\n",
    "            f.write(filename+\"\\n\")\n",
    "    print('OK!{}'.format(outputfile))"
   ]
  },
  {
   "cell_type": "code",
   "execution_count": 3,
   "id": "718df2bd",
   "metadata": {},
   "outputs": [
    {
     "name": "stdout",
     "output_type": "stream",
     "text": [
      "OK!D:\\tfnet\\balanced_corpus\\ieee-train-files.txt\n",
      "OK!D:\\tfnet\\balanced_corpus\\ieee-val-files.txt\n",
      "OK!D:\\tfnet\\balanced_corpus\\libri-train-files.txt\n",
      "OK!D:\\tfnet\\balanced_corpus\\libri-val-files.txt\n",
      "OK!D:\\tfnet\\balanced_corpus\\timit-train-files.txt\n",
      "OK!D:\\tfnet\\balanced_corpus\\timit-val-files.txt\n",
      "OK!D:\\tfnet\\balanced_corpus\\vctk-multispeaker-train-files.txt\n",
      "OK!D:\\tfnet\\balanced_corpus\\vctk-multispeaker-val-files.txt\n",
      "OK!D:\\tfnet\\balanced_corpus\\wsj-train-files.txt\n",
      "OK!D:\\tfnet\\balanced_corpus\\wsj-val-files.txt\n"
     ]
    }
   ],
   "source": [
    "inputdict = {'ieee':0.1,'libri':0.02,'timit':0.1,'vctk-multispeaker':0.02,'wsj':0.02}\n",
    "\n",
    "for corpus,sam in inputdict.items():\n",
    "    for state in ['train','val']:\n",
    "        inputfile = r'D:\\Audio-Kuleshov\\data\\Corpus\\{}-{}-files.txt'.format(corpus, state)\n",
    "        outputfile = r'D:\\tfnet\\balanced_corpus\\{}-{}-files.txt'.format(corpus, state)\n",
    "        pick_from_txt(inputfile,outputfile,sam)"
   ]
  },
  {
   "cell_type": "code",
   "execution_count": 4,
   "id": "01500250",
   "metadata": {},
   "outputs": [],
   "source": [
    "# 4.Copy wavs according to txt\n",
    "def check_dir(path):\n",
    "    if os.path.exists(path) is False:\n",
    "        os.makedirs(path)\n",
    "        \n",
    "def load_txt_list(inputfile):\n",
    "    file_list = []\n",
    "    file_extensions = set(['.wav'])\n",
    "\n",
    "    with open(inputfile) as f:\n",
    "        for line in f:\n",
    "            filename = line.strip()\n",
    "            ext = os.path.splitext(filename)[1]\n",
    "            if ext in file_extensions:\n",
    "                file_list.append(filename)\n",
    "    return file_list        "
   ]
  },
  {
   "cell_type": "code",
   "execution_count": 5,
   "id": "b27e4ce8",
   "metadata": {},
   "outputs": [
    {
     "name": "stdout",
     "output_type": "stream",
     "text": [
      "COPY!WSJ-train-files.txt\n"
     ]
    }
   ],
   "source": [
    "source_root = r'D:\\Audio-Kuleshov\\data\\Corpus'\n",
    "dest_root = r'D:\\tfnet\\balanced_corpus' \n",
    "for corpus in inputdict:\n",
    "    for state in ['val','train']:\n",
    "        file_txt = '{}-{}-files.txt'.format(corpus, state)\n",
    "        corpus = corpus.upper()\n",
    "        source_dir = source_root+'\\\\'+corpus\n",
    "        dest_dir = dest_root+'\\\\'+corpus\n",
    "        file_path = dest_root+'\\\\'+file_txt\n",
    "        file_list = load_txt_list(file_path)\n",
    "        for file in file_list:\n",
    "            source = source_root+file[1:]\n",
    "            destination = dest_root+file[1:]\n",
    "            check_dir(os.path.abspath(os.path.dirname(destination)))\n",
    "            copy(source, destination)"
   ]
  }
 ],
 "metadata": {
  "kernelspec": {
   "display_name": "audiosr",
   "language": "python",
   "name": "audiosr"
  },
  "language_info": {
   "codemirror_mode": {
    "name": "ipython",
    "version": 3
   },
   "file_extension": ".py",
   "mimetype": "text/x-python",
   "name": "python",
   "nbconvert_exporter": "python",
   "pygments_lexer": "ipython3",
   "version": "3.8.13"
  }
 },
 "nbformat": 4,
 "nbformat_minor": 5
}
